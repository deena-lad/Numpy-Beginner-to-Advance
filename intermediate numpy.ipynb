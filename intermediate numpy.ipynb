{
 "cells": [
  {
   "cell_type": "code",
   "execution_count": 1,
   "id": "5822f8fe",
   "metadata": {},
   "outputs": [],
   "source": [
    "# import library\n",
    "import numpy as np"
   ]
  },
  {
   "cell_type": "markdown",
   "id": "eabeedbd",
   "metadata": {},
   "source": [
    "#### Creating arrays with random values from a normal distribution"
   ]
  },
  {
   "cell_type": "code",
   "execution_count": 2,
   "id": "1848d2c6",
   "metadata": {},
   "outputs": [
    {
     "name": "stdout",
     "output_type": "stream",
     "text": [
      "Normal distribution array:\n",
      " [[-1.17078181  1.81744142 -1.23838881]\n",
      " [-0.89486856 -0.70308041 -0.97903639]\n",
      " [-0.00214532 -0.13319196 -1.01465773]]\n"
     ]
    }
   ],
   "source": [
    "# mean=0, std=1\n",
    "normal_dist = np.random.normal(loc=0, scale=1, size=(3, 3)) \n",
    "print(\"Normal distribution array:\\n\", normal_dist)"
   ]
  },
  {
   "cell_type": "markdown",
   "id": "228d44ce",
   "metadata": {},
   "source": [
    "#### Generating random integers"
   ]
  },
  {
   "cell_type": "code",
   "execution_count": 4,
   "id": "64d335da",
   "metadata": {},
   "outputs": [
    {
     "name": "stdout",
     "output_type": "stream",
     "text": [
      "Random integers array:\n",
      " [[7 2 5]\n",
      " [1 5 9]\n",
      " [7 3 2]]\n"
     ]
    }
   ],
   "source": [
    "# low, high, size\n",
    "rand_ints = np.random.randint(0, 10, size=(3, 3))  \n",
    "print(\"Random integers array:\\n\", rand_ints)"
   ]
  },
  {
   "cell_type": "markdown",
   "id": "ea4c3223",
   "metadata": {},
   "source": [
    "#### Creating an array with random values from a uniform distribution"
   ]
  },
  {
   "cell_type": "code",
   "execution_count": 5,
   "id": "cfb9251d",
   "metadata": {},
   "outputs": [
    {
     "name": "stdout",
     "output_type": "stream",
     "text": [
      "Uniform distribution array:\n",
      " [[0.85537442 0.03627551 0.19870344]\n",
      " [0.13044849 0.46198622 0.01876896]\n",
      " [0.23510354 0.66915826 0.57918655]]\n"
     ]
    }
   ],
   "source": [
    "# low, high, size\n",
    "uniform_dist = np.random.uniform(low=0, high=1, size=(3, 3)) \n",
    "print(\"Uniform distribution array:\\n\", uniform_dist)"
   ]
  },
  {
   "cell_type": "markdown",
   "id": "03167d9e",
   "metadata": {},
   "source": [
    "#### Advanced indexing with integer arrays"
   ]
  },
  {
   "cell_type": "code",
   "execution_count": 3,
   "id": "22a4a8eb",
   "metadata": {},
   "outputs": [
    {
     "name": "stdout",
     "output_type": "stream",
     "text": [
      "Indexed array: [10 30 50]\n"
     ]
    }
   ],
   "source": [
    "a = np.array([10, 20, 30, 40, 50])\n",
    "index_array = np.array([0, 2, 4])\n",
    "indexed_array = a[index_array]\n",
    "print(\"Indexed array:\", indexed_array)"
   ]
  },
  {
   "cell_type": "markdown",
   "id": "a97f1af4",
   "metadata": {},
   "source": [
    "#### Advanced indexing with boolean arrays"
   ]
  },
  {
   "cell_type": "code",
   "execution_count": 7,
   "id": "c578c262",
   "metadata": {},
   "outputs": [
    {
     "name": "stdout",
     "output_type": "stream",
     "text": [
      "Boolean indexing (b > 2):\n",
      " [[False False]\n",
      " [ True  True]\n",
      " [ True  True]]\n",
      "Filtered array: [3 4 5 6]\n"
     ]
    }
   ],
   "source": [
    "b = np.array([[1, 2], [3, 4], [5, 6]])\n",
    "bool_idx = (b > 2)\n",
    "print(\"Boolean indexing (b > 2):\\n\", bool_idx)\n",
    "filtered_b = b[bool_idx]\n",
    "print(\"Filtered array:\", filtered_b)"
   ]
  },
  {
   "cell_type": "markdown",
   "id": "56ae7117",
   "metadata": {},
   "source": [
    "#### Broadcasting"
   ]
  },
  {
   "cell_type": "code",
   "execution_count": 8,
   "id": "34c032e1",
   "metadata": {},
   "outputs": [
    {
     "name": "stdout",
     "output_type": "stream",
     "text": [
      "Broadcasted sum:\n",
      " [[2 2 4]\n",
      " [5 5 7]]\n"
     ]
    }
   ],
   "source": [
    "x = np.array([[1, 2, 3], [4, 5, 6]])\n",
    "y = np.array([1, 0, 1])\n",
    "broadcasted_sum = x + y\n",
    "print(\"Broadcasted sum:\\n\", broadcasted_sum)"
   ]
  },
  {
   "cell_type": "markdown",
   "id": "1b182ee8",
   "metadata": {},
   "source": [
    "#### Stacking arrays depth-wise"
   ]
  },
  {
   "cell_type": "code",
   "execution_count": 9,
   "id": "c27e0b62",
   "metadata": {},
   "outputs": [
    {
     "name": "stdout",
     "output_type": "stream",
     "text": [
      "Depth-wise stacked array:\n",
      " [[[1 1]\n",
      "  [2 2]\n",
      "  [3 3]]\n",
      "\n",
      " [[4 4]\n",
      "  [5 5]\n",
      "  [6 6]]]\n"
     ]
    }
   ],
   "source": [
    "depth_stack = np.dstack((x, x))\n",
    "print(\"Depth-wise stacked array:\\n\", depth_stack)"
   ]
  },
  {
   "cell_type": "markdown",
   "id": "ca5f710b",
   "metadata": {},
   "source": [
    "#### Splitting arrays"
   ]
  },
  {
   "cell_type": "code",
   "execution_count": 10,
   "id": "398ac6a3",
   "metadata": {},
   "outputs": [
    {
     "name": "stdout",
     "output_type": "stream",
     "text": [
      "Split array: [array([[1, 2, 3]]), array([[4, 5, 6]])]\n"
     ]
    }
   ],
   "source": [
    "# split into 2 sub-arrays\n",
    "split_array = np.split(x, 2)  \n",
    "print(\"Split array:\", split_array)"
   ]
  },
  {
   "cell_type": "markdown",
   "id": "26da3067",
   "metadata": {},
   "source": [
    "#### Finding unique elements"
   ]
  },
  {
   "cell_type": "code",
   "execution_count": 11,
   "id": "a30df640",
   "metadata": {},
   "outputs": [
    {
     "name": "stdout",
     "output_type": "stream",
     "text": [
      "Unique elements: [1 2 3]\n"
     ]
    }
   ],
   "source": [
    "c = np.array([1, 2, 2, 3, 3, 3])\n",
    "unique_elements = np.unique(c)\n",
    "print(\"Unique elements:\", unique_elements)"
   ]
  },
  {
   "cell_type": "markdown",
   "id": "1e3b1828",
   "metadata": {},
   "source": [
    "#### Finding unique elements and their counts"
   ]
  },
  {
   "cell_type": "code",
   "execution_count": 12,
   "id": "588fa45f",
   "metadata": {},
   "outputs": [
    {
     "name": "stdout",
     "output_type": "stream",
     "text": [
      "Unique elements with counts: [1 2 3] [1 2 3]\n"
     ]
    }
   ],
   "source": [
    "unique_elements, counts = np.unique(c, return_counts=True)\n",
    "print(\"Unique elements with counts:\", unique_elements, counts)"
   ]
  },
  {
   "cell_type": "markdown",
   "id": "d4b380da",
   "metadata": {},
   "source": [
    "### Linear algebra operations"
   ]
  },
  {
   "cell_type": "code",
   "execution_count": 13,
   "id": "36e9eecd",
   "metadata": {},
   "outputs": [],
   "source": [
    "matrix = np.array([[1, 2], [3, 4]])"
   ]
  },
  {
   "cell_type": "markdown",
   "id": "a99127c6",
   "metadata": {},
   "source": [
    "#### Inverse of a matrix"
   ]
  },
  {
   "cell_type": "code",
   "execution_count": 15,
   "id": "7bc4876c",
   "metadata": {},
   "outputs": [
    {
     "name": "stdout",
     "output_type": "stream",
     "text": [
      "Inverse of matrix:\n",
      " [[-2.   1. ]\n",
      " [ 1.5 -0.5]]\n"
     ]
    }
   ],
   "source": [
    "inverse_matrix = np.linalg.inv(matrix)\n",
    "print(\"Inverse of matrix:\\n\", inverse_matrix)"
   ]
  },
  {
   "cell_type": "markdown",
   "id": "c0bd40e6",
   "metadata": {},
   "source": [
    "#### Determinant of a matrix"
   ]
  },
  {
   "cell_type": "code",
   "execution_count": 16,
   "id": "314f7cf2",
   "metadata": {},
   "outputs": [
    {
     "name": "stdout",
     "output_type": "stream",
     "text": [
      "Determinant of matrix: -2.0000000000000004\n"
     ]
    }
   ],
   "source": [
    "det_matrix = np.linalg.det(matrix)\n",
    "print(\"Determinant of matrix:\", det_matrix)"
   ]
  },
  {
   "cell_type": "markdown",
   "id": "88ba3039",
   "metadata": {},
   "source": [
    "#### Eigen values and Eigen vectors"
   ]
  },
  {
   "cell_type": "code",
   "execution_count": 19,
   "id": "26e3f7fb",
   "metadata": {},
   "outputs": [
    {
     "name": "stdout",
     "output_type": "stream",
     "text": [
      "(array([-0.37228132,  5.37228132]), array([[-0.82456484, -0.41597356],\n",
      "       [ 0.56576746, -0.90937671]]))\n"
     ]
    }
   ],
   "source": [
    "eigen = np.linalg.eig(matrix)\n",
    "# this returns two values\n",
    "print(eigen)"
   ]
  },
  {
   "cell_type": "code",
   "execution_count": 17,
   "id": "b6cf0c62",
   "metadata": {},
   "outputs": [
    {
     "name": "stdout",
     "output_type": "stream",
     "text": [
      "Eigenvalues: [-0.37228132  5.37228132]\n",
      "Eigenvectors:\n",
      " [[-0.82456484 -0.41597356]\n",
      " [ 0.56576746 -0.90937671]]\n"
     ]
    }
   ],
   "source": [
    "eigenvalues, eigenvectors = np.linalg.eig(matrix)\n",
    "print(\"Eigenvalues:\", eigenvalues)\n",
    "print(\"Eigenvectors:\\n\", eigenvectors)"
   ]
  },
  {
   "cell_type": "markdown",
   "id": "f746430f",
   "metadata": {},
   "source": [
    "### Solving linear equations"
   ]
  },
  {
   "cell_type": "markdown",
   "id": "9114815d",
   "metadata": {},
   "source": [
    "#### Solve Ax=b"
   ]
  },
  {
   "cell_type": "code",
   "execution_count": 20,
   "id": "036d82b3",
   "metadata": {},
   "outputs": [
    {
     "name": "stdout",
     "output_type": "stream",
     "text": [
      "Solution of linear equations: [2. 3.]\n"
     ]
    }
   ],
   "source": [
    "A = np.array([[3, 1], [1, 2]])\n",
    "b = np.array([9, 8])\n",
    "solution = np.linalg.solve(A, b)\n",
    "print(\"Solution of linear equations:\", solution)"
   ]
  },
  {
   "cell_type": "markdown",
   "id": "ae880415",
   "metadata": {},
   "source": [
    "#### Matrix multiplication"
   ]
  },
  {
   "cell_type": "code",
   "execution_count": 21,
   "id": "36f09772",
   "metadata": {},
   "outputs": [
    {
     "name": "stdout",
     "output_type": "stream",
     "text": [
      "Matrix multiplication:\n",
      " [[ 6 10]\n",
      " [ 7 10]]\n"
     ]
    }
   ],
   "source": [
    "matrix_mul = np.matmul(A, matrix)\n",
    "print(\"Matrix multiplication:\\n\", matrix_mul)"
   ]
  },
  {
   "cell_type": "markdown",
   "id": "e749df57",
   "metadata": {},
   "source": [
    "#### Element-wise power"
   ]
  },
  {
   "cell_type": "code",
   "execution_count": 23,
   "id": "26925524",
   "metadata": {},
   "outputs": [
    {
     "name": "stdout",
     "output_type": "stream",
     "text": [
      "Element-wise power: [[9 1]\n",
      " [1 4]]\n"
     ]
    }
   ],
   "source": [
    "powered_array = np.power(A, 2)\n",
    "print(\"Element-wise power:\", powered_array)"
   ]
  },
  {
   "cell_type": "markdown",
   "id": "cbe57f78",
   "metadata": {},
   "source": [
    "#### Applying a function element-wise"
   ]
  },
  {
   "cell_type": "code",
   "execution_count": 25,
   "id": "19512d0d",
   "metadata": {},
   "outputs": [
    {
     "name": "stdout",
     "output_type": "stream",
     "text": [
      "Applied custom function: [[10  2]\n",
      " [ 2  5]]\n"
     ]
    }
   ],
   "source": [
    "def custom_func(x):\n",
    "    return x ** 2 + 1\n",
    "\n",
    "applied_func = np.vectorize(custom_func)(A)\n",
    "print(\"Applied custom function:\", applied_func)"
   ]
  },
  {
   "cell_type": "markdown",
   "id": "9a703074",
   "metadata": {},
   "source": [
    "### Logical operators"
   ]
  },
  {
   "cell_type": "code",
   "execution_count": 29,
   "id": "651baeb2",
   "metadata": {},
   "outputs": [
    {
     "name": "stdout",
     "output_type": "stream",
     "text": [
      "Logical AND: [False  True  True  True False]\n"
     ]
    }
   ],
   "source": [
    "logical_and = np.logical_and(a > 10, a < 50)\n",
    "print(\"Logical AND:\", logical_and)"
   ]
  },
  {
   "cell_type": "code",
   "execution_count": 30,
   "id": "49801b23",
   "metadata": {},
   "outputs": [
    {
     "name": "stdout",
     "output_type": "stream",
     "text": [
      "Logical OR: [False False False  True  True]\n"
     ]
    }
   ],
   "source": [
    "logical_or = np.logical_or(a < 10, a > 30)\n",
    "print(\"Logical OR:\", logical_or)"
   ]
  },
  {
   "cell_type": "markdown",
   "id": "98ba9b16",
   "metadata": {},
   "source": [
    "### Saving and loading arrays"
   ]
  },
  {
   "cell_type": "code",
   "execution_count": 4,
   "id": "3c660ac8",
   "metadata": {},
   "outputs": [
    {
     "name": "stdout",
     "output_type": "stream",
     "text": [
      "Loaded array from file: [10 20 30 40 50]\n"
     ]
    }
   ],
   "source": [
    "np.save('saved_array.npy', a)\n",
    "loaded_array = np.load('saved_array.npy')\n",
    "print(\"Loaded array from file:\", loaded_array)"
   ]
  },
  {
   "cell_type": "markdown",
   "id": "62b17ebf",
   "metadata": {},
   "source": [
    "#### Saving and loading text files"
   ]
  },
  {
   "cell_type": "code",
   "execution_count": 5,
   "id": "3af5abf6",
   "metadata": {},
   "outputs": [
    {
     "name": "stdout",
     "output_type": "stream",
     "text": [
      "Loaded array from text file: [10. 20. 30. 40. 50.]\n"
     ]
    }
   ],
   "source": [
    "np.savetxt('saved_array.txt', a, delimiter=',')\n",
    "loaded_text_array = np.loadtxt('saved_array.txt', delimiter=',')\n",
    "print(\"Loaded array from text file:\", loaded_text_array)"
   ]
  },
  {
   "cell_type": "markdown",
   "id": "8c9973d7",
   "metadata": {},
   "source": [
    "#### Generating meshgrid for 3D plots or functions"
   ]
  },
  {
   "cell_type": "code",
   "execution_count": 6,
   "id": "b8449f0e",
   "metadata": {},
   "outputs": [],
   "source": [
    "x = np.linspace(-5, 5, 10)\n",
    "y = np.linspace(-5, 5, 10)"
   ]
  },
  {
   "cell_type": "code",
   "execution_count": 7,
   "id": "ccb01fe3",
   "metadata": {},
   "outputs": [],
   "source": [
    "X, Y = np.meshgrid(x, y)\n",
    "Z = np.sin(X) + np.cos(Y)"
   ]
  },
  {
   "cell_type": "code",
   "execution_count": 8,
   "id": "c3ee84de",
   "metadata": {},
   "outputs": [
    {
     "name": "stdout",
     "output_type": "stream",
     "text": [
      "Meshgrid X:\n",
      " [[-5.         -3.88888889 -2.77777778 -1.66666667 -0.55555556  0.55555556\n",
      "   1.66666667  2.77777778  3.88888889  5.        ]\n",
      " [-5.         -3.88888889 -2.77777778 -1.66666667 -0.55555556  0.55555556\n",
      "   1.66666667  2.77777778  3.88888889  5.        ]\n",
      " [-5.         -3.88888889 -2.77777778 -1.66666667 -0.55555556  0.55555556\n",
      "   1.66666667  2.77777778  3.88888889  5.        ]\n",
      " [-5.         -3.88888889 -2.77777778 -1.66666667 -0.55555556  0.55555556\n",
      "   1.66666667  2.77777778  3.88888889  5.        ]\n",
      " [-5.         -3.88888889 -2.77777778 -1.66666667 -0.55555556  0.55555556\n",
      "   1.66666667  2.77777778  3.88888889  5.        ]\n",
      " [-5.         -3.88888889 -2.77777778 -1.66666667 -0.55555556  0.55555556\n",
      "   1.66666667  2.77777778  3.88888889  5.        ]\n",
      " [-5.         -3.88888889 -2.77777778 -1.66666667 -0.55555556  0.55555556\n",
      "   1.66666667  2.77777778  3.88888889  5.        ]\n",
      " [-5.         -3.88888889 -2.77777778 -1.66666667 -0.55555556  0.55555556\n",
      "   1.66666667  2.77777778  3.88888889  5.        ]\n",
      " [-5.         -3.88888889 -2.77777778 -1.66666667 -0.55555556  0.55555556\n",
      "   1.66666667  2.77777778  3.88888889  5.        ]\n",
      " [-5.         -3.88888889 -2.77777778 -1.66666667 -0.55555556  0.55555556\n",
      "   1.66666667  2.77777778  3.88888889  5.        ]]\n",
      "Meshgrid Y:\n",
      " [[-5.         -5.         -5.         -5.         -5.         -5.\n",
      "  -5.         -5.         -5.         -5.        ]\n",
      " [-3.88888889 -3.88888889 -3.88888889 -3.88888889 -3.88888889 -3.88888889\n",
      "  -3.88888889 -3.88888889 -3.88888889 -3.88888889]\n",
      " [-2.77777778 -2.77777778 -2.77777778 -2.77777778 -2.77777778 -2.77777778\n",
      "  -2.77777778 -2.77777778 -2.77777778 -2.77777778]\n",
      " [-1.66666667 -1.66666667 -1.66666667 -1.66666667 -1.66666667 -1.66666667\n",
      "  -1.66666667 -1.66666667 -1.66666667 -1.66666667]\n",
      " [-0.55555556 -0.55555556 -0.55555556 -0.55555556 -0.55555556 -0.55555556\n",
      "  -0.55555556 -0.55555556 -0.55555556 -0.55555556]\n",
      " [ 0.55555556  0.55555556  0.55555556  0.55555556  0.55555556  0.55555556\n",
      "   0.55555556  0.55555556  0.55555556  0.55555556]\n",
      " [ 1.66666667  1.66666667  1.66666667  1.66666667  1.66666667  1.66666667\n",
      "   1.66666667  1.66666667  1.66666667  1.66666667]\n",
      " [ 2.77777778  2.77777778  2.77777778  2.77777778  2.77777778  2.77777778\n",
      "   2.77777778  2.77777778  2.77777778  2.77777778]\n",
      " [ 3.88888889  3.88888889  3.88888889  3.88888889  3.88888889  3.88888889\n",
      "   3.88888889  3.88888889  3.88888889  3.88888889]\n",
      " [ 5.          5.          5.          5.          5.          5.\n",
      "   5.          5.          5.          5.        ]]\n",
      "Computed Z:\n",
      " [[ 1.24258646  0.96332014 -0.07217981 -0.71174577 -0.2437532   0.81107757\n",
      "   1.27907014  0.63950418 -0.39599577 -0.67526209]\n",
      " [ 0.22539509 -0.05387123 -1.08937117 -1.72893714 -1.26094457 -0.2061138\n",
      "   0.26187877 -0.37768719 -1.41318714 -1.69245346]\n",
      " [ 0.02437814 -0.25488818 -1.29038813 -1.92995409 -1.46196152 -0.40713075\n",
      "   0.06086182 -0.57870414 -1.61420409 -1.89347041]\n",
      " [ 0.86320073  0.58393441 -0.45156554 -1.09113151 -0.62313893  0.43169184\n",
      "   0.89968441  0.26011844 -0.7753815  -1.05464782]\n",
      " [ 1.80853184  1.52926552  0.49376557 -0.14580039  0.32219218  1.37702295\n",
      "   1.84501552  1.20544955  0.16994961 -0.10931671]\n",
      " [ 1.80853184  1.52926552  0.49376557 -0.14580039  0.32219218  1.37702295\n",
      "   1.84501552  1.20544955  0.16994961 -0.10931671]\n",
      " [ 0.86320073  0.58393441 -0.45156554 -1.09113151 -0.62313893  0.43169184\n",
      "   0.89968441  0.26011844 -0.7753815  -1.05464782]\n",
      " [ 0.02437814 -0.25488818 -1.29038813 -1.92995409 -1.46196152 -0.40713075\n",
      "   0.06086182 -0.57870414 -1.61420409 -1.89347041]\n",
      " [ 0.22539509 -0.05387123 -1.08937117 -1.72893714 -1.26094457 -0.2061138\n",
      "   0.26187877 -0.37768719 -1.41318714 -1.69245346]\n",
      " [ 1.24258646  0.96332014 -0.07217981 -0.71174577 -0.2437532   0.81107757\n",
      "   1.27907014  0.63950418 -0.39599577 -0.67526209]]\n"
     ]
    }
   ],
   "source": [
    "print(\"Meshgrid X:\\n\", X)\n",
    "print(\"Meshgrid Y:\\n\", Y)\n",
    "print(\"Computed Z:\\n\", Z)"
   ]
  },
  {
   "cell_type": "markdown",
   "id": "37fb4c6e",
   "metadata": {},
   "source": [
    "### Applying condition to elements"
   ]
  },
  {
   "cell_type": "code",
   "execution_count": 9,
   "id": "4f456dbe",
   "metadata": {},
   "outputs": [
    {
     "name": "stdout",
     "output_type": "stream",
     "text": [
      "Conditionally modified array: [-1 -1 30 40 50]\n"
     ]
    }
   ],
   "source": [
    "cond_array = np.where(a > 20, a, -1)\n",
    "print(\"Conditionally modified array:\", cond_array)"
   ]
  },
  {
   "cell_type": "markdown",
   "id": "66edca5a",
   "metadata": {},
   "source": [
    "### Working with structured arrays"
   ]
  },
  {
   "cell_type": "code",
   "execution_count": 10,
   "id": "c6501fc5",
   "metadata": {},
   "outputs": [
    {
     "name": "stdout",
     "output_type": "stream",
     "text": [
      "Structured array: [(1, 'A') (2, 'B') (3, 'C')]\n",
      "Structured array field 'number': [1 2 3]\n",
      "Structured array field 'letter': ['A' 'B' 'C']\n"
     ]
    }
   ],
   "source": [
    "structured_array = np.array([(1, 'A'), (2, 'B'), (3, 'C')],\n",
    "                            dtype=[('number', 'i4'), ('letter', 'U1')])\n",
    "print(\"Structured array:\", structured_array)\n",
    "print(\"Structured array field 'number':\", structured_array['number'])\n",
    "print(\"Structured array field 'letter':\", structured_array['letter'])"
   ]
  },
  {
   "cell_type": "code",
   "execution_count": null,
   "id": "44db6ff7",
   "metadata": {},
   "outputs": [],
   "source": []
  }
 ],
 "metadata": {
  "kernelspec": {
   "display_name": "Python 3 (ipykernel)",
   "language": "python",
   "name": "python3"
  },
  "language_info": {
   "codemirror_mode": {
    "name": "ipython",
    "version": 3
   },
   "file_extension": ".py",
   "mimetype": "text/x-python",
   "name": "python",
   "nbconvert_exporter": "python",
   "pygments_lexer": "ipython3",
   "version": "3.9.7"
  }
 },
 "nbformat": 4,
 "nbformat_minor": 5
}
