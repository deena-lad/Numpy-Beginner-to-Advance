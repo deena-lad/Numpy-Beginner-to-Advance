{
 "cells": [
  {
   "cell_type": "code",
   "execution_count": 1,
   "id": "a36273ee",
   "metadata": {},
   "outputs": [],
   "source": [
    "import numpy as np"
   ]
  },
  {
   "cell_type": "markdown",
   "id": "748cd482",
   "metadata": {},
   "source": [
    "#### Advanced array creation with specific dtypes"
   ]
  },
  {
   "cell_type": "code",
   "execution_count": 2,
   "id": "9d9497ce",
   "metadata": {},
   "outputs": [
    {
     "name": "stdout",
     "output_type": "stream",
     "text": [
      "Complex array: [1.+2.j 3.+4.j]\n"
     ]
    }
   ],
   "source": [
    "complex_array = np.array([1+2j, 3+4j], dtype=np.complex128)\n",
    "print(\"Complex array:\", complex_array)"
   ]
  },
  {
   "cell_type": "markdown",
   "id": "d62dff36",
   "metadata": {},
   "source": [
    "#### Memory layout optimization (order parameter)"
   ]
  },
  {
   "cell_type": "code",
   "execution_count": 3,
   "id": "7cba07cb",
   "metadata": {},
   "outputs": [
    {
     "name": "stdout",
     "output_type": "stream",
     "text": [
      "C-order array: [[1 2 3]\n",
      " [4 5 6]]\n",
      "F-order array: [[1 2 3]\n",
      " [4 5 6]]\n"
     ]
    }
   ],
   "source": [
    "c_order_array = np.array([[1, 2, 3], [4, 5, 6]], order='C')\n",
    "f_order_array = np.array([[1, 2, 3], [4, 5, 6]], order='F')\n",
    "print(\"C-order array:\", c_order_array)\n",
    "print(\"F-order array:\", f_order_array)"
   ]
  },
  {
   "cell_type": "markdown",
   "id": "2301e23b",
   "metadata": {},
   "source": [
    "#### Memory views and broadcasting"
   ]
  },
  {
   "cell_type": "code",
   "execution_count": 4,
   "id": "1cdd14ef",
   "metadata": {},
   "outputs": [
    {
     "name": "stdout",
     "output_type": "stream",
     "text": [
      "Memory view and broadcasting array:\n",
      " [[[0 1 2]]\n",
      "\n",
      " [[3 4 5]]]\n"
     ]
    }
   ],
   "source": [
    "x = np.arange(6).reshape(2, 3)\n",
    "y = x[:, np.newaxis, :]\n",
    "print(\"Memory view and broadcasting array:\\n\", y)"
   ]
  },
  {
   "cell_type": "markdown",
   "id": "b984702c",
   "metadata": {},
   "source": [
    "#### Manipulating the shape and size of arrays"
   ]
  },
  {
   "cell_type": "code",
   "execution_count": 5,
   "id": "7fd55615",
   "metadata": {},
   "outputs": [
    {
     "name": "stdout",
     "output_type": "stream",
     "text": [
      "Flattened array: [0 1 2 3 4 5]\n"
     ]
    }
   ],
   "source": [
    "flattened = x.flatten()\n",
    "print(\"Flattened array:\", flattened)"
   ]
  },
  {
   "cell_type": "code",
   "execution_count": 6,
   "id": "2c75d3eb",
   "metadata": {},
   "outputs": [
    {
     "name": "stdout",
     "output_type": "stream",
     "text": [
      "Raveled array: [0 1 2 3 4 5]\n"
     ]
    }
   ],
   "source": [
    "raveled = x.ravel()\n",
    "print(\"Raveled array:\", raveled)"
   ]
  },
  {
   "cell_type": "markdown",
   "id": "7596ceec",
   "metadata": {},
   "source": [
    "#### Tile and repeat arrays"
   ]
  },
  {
   "cell_type": "code",
   "execution_count": 7,
   "id": "3dc7b54d",
   "metadata": {},
   "outputs": [
    {
     "name": "stdout",
     "output_type": "stream",
     "text": [
      "Tiled array:\n",
      " [[0 1 2]\n",
      " [3 4 5]\n",
      " [0 1 2]\n",
      " [3 4 5]]\n"
     ]
    }
   ],
   "source": [
    "tiled = np.tile(x, (2, 1))\n",
    "print(\"Tiled array:\\n\", tiled)"
   ]
  },
  {
   "cell_type": "code",
   "execution_count": 8,
   "id": "c84938ed",
   "metadata": {},
   "outputs": [
    {
     "name": "stdout",
     "output_type": "stream",
     "text": [
      "Repeated array:\n",
      " [[0 1 2]\n",
      " [0 1 2]\n",
      " [3 4 5]\n",
      " [3 4 5]]\n"
     ]
    }
   ],
   "source": [
    "repeated = np.repeat(x, 2, axis=0)\n",
    "print(\"Repeated array:\\n\", repeated)"
   ]
  },
  {
   "cell_type": "markdown",
   "id": "27c9204d",
   "metadata": {},
   "source": [
    "#### Masked arrays"
   ]
  },
  {
   "cell_type": "code",
   "execution_count": 9,
   "id": "1ea3e4a0",
   "metadata": {},
   "outputs": [
    {
     "name": "stdout",
     "output_type": "stream",
     "text": [
      "Masked array:\n",
      " [[0 1 2]\n",
      " [-- -- --]]\n"
     ]
    }
   ],
   "source": [
    "masked_array = np.ma.array(x, mask=x > 2)\n",
    "print(\"Masked array:\\n\", masked_array)"
   ]
  },
  {
   "cell_type": "markdown",
   "id": "489f8dfa",
   "metadata": {},
   "source": [
    "### Advanced linear algebra operations"
   ]
  },
  {
   "cell_type": "markdown",
   "id": "667af7e1",
   "metadata": {},
   "source": [
    "#### Singular Value Decomposition (SVD)"
   ]
  },
  {
   "cell_type": "code",
   "execution_count": 10,
   "id": "b4023a4c",
   "metadata": {},
   "outputs": [
    {
     "name": "stdout",
     "output_type": "stream",
     "text": [
      "U matrix:\n",
      " [[-0.27472113 -0.96152395]\n",
      " [-0.96152395  0.27472113]]\n",
      "Singular values: [7.34846923 1.        ]\n",
      "V^H matrix:\n",
      " [[-0.39254051 -0.56077215 -0.7290038 ]\n",
      " [ 0.82416338  0.13736056 -0.54944226]]\n"
     ]
    }
   ],
   "source": [
    "u, s, vh = np.linalg.svd(x, full_matrices=False)\n",
    "print(\"U matrix:\\n\", u)\n",
    "print(\"Singular values:\", s)\n",
    "print(\"V^H matrix:\\n\", vh)"
   ]
  },
  {
   "cell_type": "markdown",
   "id": "226de259",
   "metadata": {},
   "source": [
    "#### QR Decomposition"
   ]
  },
  {
   "cell_type": "code",
   "execution_count": 11,
   "id": "79eee813",
   "metadata": {},
   "outputs": [
    {
     "name": "stdout",
     "output_type": "stream",
     "text": [
      "Q matrix:\n",
      " [[ 0. -1.]\n",
      " [-1.  0.]]\n",
      "R matrix:\n",
      " [[-3. -4. -5.]\n",
      " [ 0. -1. -2.]]\n"
     ]
    }
   ],
   "source": [
    "q, r = np.linalg.qr(x)\n",
    "print(\"Q matrix:\\n\", q)\n",
    "print(\"R matrix:\\n\", r)"
   ]
  },
  {
   "cell_type": "markdown",
   "id": "0196fbb8",
   "metadata": {},
   "source": [
    "#### Cholesky Decomposition"
   ]
  },
  {
   "cell_type": "code",
   "execution_count": 12,
   "id": "5657ac41",
   "metadata": {},
   "outputs": [
    {
     "name": "stdout",
     "output_type": "stream",
     "text": [
      "Cholesky decomposition:\n",
      " [[1. 0.]\n",
      " [2. 1.]]\n"
     ]
    }
   ],
   "source": [
    "A = np.array([[1, 2], [2, 5]])\n",
    "cholesky_decomp = np.linalg.cholesky(A)\n",
    "print(\"Cholesky decomposition:\\n\", cholesky_decomp)"
   ]
  },
  {
   "cell_type": "markdown",
   "id": "59bedbb2",
   "metadata": {},
   "source": [
    "#### Eigenvalue decomposition"
   ]
  },
  {
   "cell_type": "code",
   "execution_count": 13,
   "id": "b615d8c4",
   "metadata": {},
   "outputs": [
    {
     "name": "stdout",
     "output_type": "stream",
     "text": [
      "Eigenvalues: [0.17157288 5.82842712]\n",
      "Eigenvectors:\n",
      " [[-0.92387953  0.38268343]\n",
      " [ 0.38268343  0.92387953]]\n"
     ]
    }
   ],
   "source": [
    "eigenvalues, eigenvectors = np.linalg.eigh(A)\n",
    "print(\"Eigenvalues:\", eigenvalues)\n",
    "print(\"Eigenvectors:\\n\", eigenvectors)"
   ]
  },
  {
   "cell_type": "markdown",
   "id": "4cf68f92",
   "metadata": {},
   "source": [
    "#### Fourier Transforms"
   ]
  },
  {
   "cell_type": "code",
   "execution_count": 15,
   "id": "6988a997",
   "metadata": {},
   "outputs": [
    {
     "name": "stdout",
     "output_type": "stream",
     "text": [
      "FFT of array: [10.+0.j -2.+2.j -2.+0.j -2.-2.j]\n"
     ]
    }
   ],
   "source": [
    "fft_array = np.fft.fft([1, 2, 3, 4])\n",
    "print(\"FFT of array:\", fft_array)"
   ]
  },
  {
   "cell_type": "code",
   "execution_count": 16,
   "id": "910372b3",
   "metadata": {},
   "outputs": [
    {
     "name": "stdout",
     "output_type": "stream",
     "text": [
      "Inverse FFT of array: [1.+0.j 2.+0.j 3.+0.j 4.+0.j]\n"
     ]
    }
   ],
   "source": [
    "ifft_array = np.fft.ifft(fft_array)\n",
    "print(\"Inverse FFT of array:\", ifft_array)"
   ]
  },
  {
   "cell_type": "markdown",
   "id": "83c8c549",
   "metadata": {},
   "source": [
    "#### Gradient and numerical differentiation"
   ]
  },
  {
   "cell_type": "code",
   "execution_count": 18,
   "id": "a39e5e70",
   "metadata": {},
   "outputs": [
    {
     "name": "stdout",
     "output_type": "stream",
     "text": [
      "Gradient of y with respect to x: [ 0.91710906  0.69293215  0.12999645 -0.49649157 -0.88025613 -0.83368344\n",
      " -0.37954184  0.26014916  0.77265913  0.90743359  0.59858436 -0.00289918\n",
      " -0.60296538 -0.90825549 -0.9556918 ]\n"
     ]
    }
   ],
   "source": [
    "x = np.linspace(0, 10, 15)\n",
    "y = np.sin(x)\n",
    "gradient = np.gradient(y, x)\n",
    "print(\"Gradient of y with respect to x:\", gradient)"
   ]
  },
  {
   "cell_type": "markdown",
   "id": "842fa3b4",
   "metadata": {},
   "source": [
    "### Advanced statistical functions"
   ]
  },
  {
   "cell_type": "code",
   "execution_count": 19,
   "id": "2b63333d",
   "metadata": {},
   "outputs": [
    {
     "name": "stdout",
     "output_type": "stream",
     "text": [
      "90th percentile: 9.0\n",
      "Quantiles (25%, 50%, 75%): [2.5 5.  7.5]\n"
     ]
    }
   ],
   "source": [
    "percentile_90 = np.percentile(x, 90)\n",
    "print(\"90th percentile:\", percentile_90)\n",
    "\n",
    "quantiles = np.quantile(x, [0.25, 0.5, 0.75])\n",
    "print(\"Quantiles (25%, 50%, 75%):\", quantiles)"
   ]
  },
  {
   "cell_type": "markdown",
   "id": "675125f7",
   "metadata": {},
   "source": [
    "### Advanced random number generation"
   ]
  },
  {
   "cell_type": "markdown",
   "id": "7128455a",
   "metadata": {},
   "source": [
    "#### Random samples from a multivariate normal distribution"
   ]
  },
  {
   "cell_type": "code",
   "execution_count": 20,
   "id": "aa873a15",
   "metadata": {},
   "outputs": [
    {
     "name": "stdout",
     "output_type": "stream",
     "text": [
      "Multivariate normal samples:\n",
      " [[ 0.93606914  1.15691852]\n",
      " [-1.28852235 -0.13595945]\n",
      " [ 0.25266096  0.2836092 ]\n",
      " [-0.82698785 -1.04721833]\n",
      " [ 0.62612241 -0.72883211]]\n"
     ]
    }
   ],
   "source": [
    "mean = [0, 0]\n",
    "cov = [[1, 0.5], [0.5, 1]]\n",
    "multivar_normal = np.random.multivariate_normal(mean, cov, 1000)\n",
    "print(\"Multivariate normal samples:\\n\", multivar_normal[:5])"
   ]
  },
  {
   "cell_type": "markdown",
   "id": "a4a87f90",
   "metadata": {},
   "source": [
    "### Working with large datasets"
   ]
  },
  {
   "cell_type": "markdown",
   "id": "24e07d3e",
   "metadata": {},
   "source": [
    "#### Memory-mapped files for large datasets"
   ]
  },
  {
   "cell_type": "code",
   "execution_count": 22,
   "id": "c0f16bdf",
   "metadata": {},
   "outputs": [
    {
     "name": "stdout",
     "output_type": "stream",
     "text": [
      "Large array using memmap:\n",
      " [[0.22171208 0.73977745 0.19573109 ... 0.06419918 0.3911122  0.71369445]\n",
      " [0.4550585  0.7412077  0.5594306  ... 0.9787705  0.49550235 0.57995635]\n",
      " [0.31516382 0.31833953 0.2724072  ... 0.73119575 0.6358822  0.45537663]\n",
      " ...\n",
      " [0.04684654 0.19707555 0.30127618 ... 0.77955985 0.00743755 0.39149788]\n",
      " [0.8189556  0.1627267  0.5308674  ... 0.39167887 0.7441131  0.9988899 ]\n",
      " [0.32805124 0.67676634 0.53329086 ... 0.35035086 0.09388423 0.38440704]]\n"
     ]
    }
   ],
   "source": [
    "large_array = np.memmap('large_array.dat', dtype='float32', mode='w+', shape=(1000, 1000))\n",
    "large_array[:] = np.random.random((1000, 1000))\n",
    "print(\"Large array using memmap:\\n\", large_array)"
   ]
  },
  {
   "cell_type": "markdown",
   "id": "7c83dee5",
   "metadata": {},
   "source": [
    "### Sliding window view for advanced slicing"
   ]
  },
  {
   "cell_type": "code",
   "execution_count": 23,
   "id": "002516eb",
   "metadata": {},
   "outputs": [
    {
     "name": "stdout",
     "output_type": "stream",
     "text": [
      "Sliding window view:\n",
      " [[0 1 2]\n",
      " [1 2 3]\n",
      " [2 3 4]\n",
      " [3 4 5]\n",
      " [4 5 6]\n",
      " [5 6 7]\n",
      " [6 7 8]\n",
      " [7 8 9]]\n"
     ]
    }
   ],
   "source": [
    "from numpy.lib.stride_tricks import sliding_window_view\n",
    "array = np.arange(10)\n",
    "window_size = 3\n",
    "sliding_windows = sliding_window_view(array, window_shape=window_size)\n",
    "print(\"Sliding window view:\\n\", sliding_windows)"
   ]
  },
  {
   "cell_type": "markdown",
   "id": "99c6daa0",
   "metadata": {},
   "source": [
    "### Sparse matrix operations with Scipy integration"
   ]
  },
  {
   "cell_type": "code",
   "execution_count": 26,
   "id": "364f07cf",
   "metadata": {},
   "outputs": [
    {
     "name": "stdout",
     "output_type": "stream",
     "text": [
      "Sparse matrix:\n",
      "   (0, 1)\t1\n",
      "  (0, 2)\t2\n",
      "  (0, 3)\t3\n",
      "  (0, 4)\t4\n",
      "  (1, 0)\t5\n",
      "  (1, 1)\t6\n",
      "  (1, 2)\t7\n",
      "  (1, 3)\t8\n",
      "  (1, 4)\t9\n",
      "  (2, 0)\t10\n",
      "  (2, 1)\t11\n",
      "  (2, 2)\t12\n",
      "  (2, 3)\t13\n",
      "  (2, 4)\t14\n",
      "  (3, 0)\t15\n",
      "  (3, 1)\t16\n",
      "  (3, 2)\t17\n",
      "  (3, 3)\t18\n",
      "  (3, 4)\t19\n",
      "  (4, 0)\t20\n",
      "  (4, 1)\t21\n",
      "  (4, 2)\t22\n",
      "  (4, 3)\t23\n",
      "  (4, 4)\t24\n"
     ]
    }
   ],
   "source": [
    "from scipy import sparse\n",
    "a = np.arange(25).reshape(5, 5)\n",
    "sparse_matrix = sparse.csr_matrix(a)\n",
    "print(\"Sparse matrix:\\n\", sparse_matrix)"
   ]
  },
  {
   "cell_type": "markdown",
   "id": "3e2e76ad",
   "metadata": {},
   "source": [
    "### Sparse matrix operations"
   ]
  },
  {
   "cell_type": "code",
   "execution_count": 28,
   "id": "6104c291",
   "metadata": {},
   "outputs": [
    {
     "name": "stdout",
     "output_type": "stream",
     "text": [
      "Sum of sparse matrix elements: 300\n"
     ]
    }
   ],
   "source": [
    "sparse_matrix_sum = sparse_matrix.sum()\n",
    "print(\"Sum of sparse matrix elements:\", sparse_matrix_sum)"
   ]
  },
  {
   "cell_type": "code",
   "execution_count": 29,
   "id": "69e555ab",
   "metadata": {},
   "outputs": [
    {
     "name": "stdout",
     "output_type": "stream",
     "text": [
      "Squared elements using np.ufunc:\n",
      " [[  0   1   4   9  16]\n",
      " [ 25  36  49  64  81]\n",
      " [100 121 144 169 196]\n",
      " [225 256 289 324 361]\n",
      " [400 441 484 529 576]]\n"
     ]
    }
   ],
   "source": [
    "# element wise\n",
    "squared_elements = np.square(a)\n",
    "print(\"Squared elements using np.ufunc:\\n\", squared_elements)"
   ]
  },
  {
   "cell_type": "markdown",
   "id": "48ba4fa1",
   "metadata": {},
   "source": [
    "### Broadcasting with np.newaxis for higher-dimensional operations"
   ]
  },
  {
   "cell_type": "code",
   "execution_count": 30,
   "id": "01e646d1",
   "metadata": {},
   "outputs": [
    {
     "name": "stdout",
     "output_type": "stream",
     "text": [
      "Array expanded to 3D with newaxis:\n",
      " [[0]\n",
      " [1]\n",
      " [2]\n",
      " [3]\n",
      " [4]\n",
      " [5]\n",
      " [6]\n",
      " [7]\n",
      " [8]\n",
      " [9]]\n"
     ]
    }
   ],
   "source": [
    "array_3d = array[:, np.newaxis]\n",
    "print(\"Array expanded to 3D with newaxis:\\n\", array_3d)"
   ]
  },
  {
   "cell_type": "markdown",
   "id": "38729599",
   "metadata": {},
   "source": [
    "### Vectorized string operations"
   ]
  },
  {
   "cell_type": "code",
   "execution_count": 31,
   "id": "3f0c4ee4",
   "metadata": {},
   "outputs": [
    {
     "name": "stdout",
     "output_type": "stream",
     "text": [
      "Uppercased string array: ['HELLO' 'WORLD' 'NUMPY']\n"
     ]
    }
   ],
   "source": [
    "string_array = np.array(['hello', 'world', 'numpy'])\n",
    "uppercased = np.char.upper(string_array)\n",
    "print(\"Uppercased string array:\", uppercased)"
   ]
  },
  {
   "cell_type": "markdown",
   "id": "cb7f3e12",
   "metadata": {},
   "source": [
    "### Vectorized datetime operations"
   ]
  },
  {
   "cell_type": "code",
   "execution_count": 32,
   "id": "9e8d121f",
   "metadata": {},
   "outputs": [
    {
     "name": "stdout",
     "output_type": "stream",
     "text": [
      "Date differences in days: [  0 365]\n"
     ]
    }
   ],
   "source": [
    "dates = np.array(['2023-01-01', '2024-01-01'], dtype='datetime64')\n",
    "date_diffs = dates - np.datetime64('2023-01-01')\n",
    "print(\"Date differences in days:\", date_diffs)"
   ]
  },
  {
   "cell_type": "code",
   "execution_count": null,
   "id": "09906a62",
   "metadata": {},
   "outputs": [],
   "source": []
  }
 ],
 "metadata": {
  "kernelspec": {
   "display_name": "Python 3 (ipykernel)",
   "language": "python",
   "name": "python3"
  },
  "language_info": {
   "codemirror_mode": {
    "name": "ipython",
    "version": 3
   },
   "file_extension": ".py",
   "mimetype": "text/x-python",
   "name": "python",
   "nbconvert_exporter": "python",
   "pygments_lexer": "ipython3",
   "version": "3.9.7"
  }
 },
 "nbformat": 4,
 "nbformat_minor": 5
}
