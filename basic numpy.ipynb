{
 "cells": [
  {
   "cell_type": "code",
   "execution_count": null,
   "id": "f98ce9b4",
   "metadata": {},
   "outputs": [],
   "source": [
    "!pip install numpy"
   ]
  },
  {
   "cell_type": "code",
   "execution_count": 2,
   "id": "5958ac22",
   "metadata": {},
   "outputs": [],
   "source": [
    "# import the library\n",
    "import numpy as np"
   ]
  },
  {
   "cell_type": "markdown",
   "id": "da8200eb",
   "metadata": {},
   "source": [
    "### Creating different types of arrays"
   ]
  },
  {
   "cell_type": "code",
   "execution_count": 3,
   "id": "caa9387e",
   "metadata": {},
   "outputs": [
    {
     "name": "stdout",
     "output_type": "stream",
     "text": [
      "Array: [1 2 3 4 5]\n"
     ]
    }
   ],
   "source": [
    "# Create a NumPy array from a list\n",
    "arr = np.array([1, 2, 3, 4, 5])\n",
    "print(\"Array:\", arr)"
   ]
  },
  {
   "cell_type": "code",
   "execution_count": 4,
   "id": "ebb4f2d2",
   "metadata": {},
   "outputs": [
    {
     "name": "stdout",
     "output_type": "stream",
     "text": [
      "Matrix:\n",
      " [[1 2 3]\n",
      " [4 5 6]]\n"
     ]
    }
   ],
   "source": [
    "# Create a 2D array (matrix) from a list of lists\n",
    "matrix = np.array([[1, 2, 3], [4, 5, 6]])\n",
    "print(\"Matrix:\\n\", matrix)"
   ]
  },
  {
   "cell_type": "code",
   "execution_count": 5,
   "id": "90d170e4",
   "metadata": {},
   "outputs": [
    {
     "name": "stdout",
     "output_type": "stream",
     "text": [
      "Zeros:\n",
      " [[0. 0. 0.]\n",
      " [0. 0. 0.]\n",
      " [0. 0. 0.]]\n"
     ]
    }
   ],
   "source": [
    "# Create an array of zeros\n",
    "zeros = np.zeros((3, 3))\n",
    "print(\"Zeros:\\n\", zeros)"
   ]
  },
  {
   "cell_type": "code",
   "execution_count": 6,
   "id": "367e6cbd",
   "metadata": {},
   "outputs": [
    {
     "name": "stdout",
     "output_type": "stream",
     "text": [
      "Ones:\n",
      " [[1. 1. 1. 1.]\n",
      " [1. 1. 1. 1.]]\n"
     ]
    }
   ],
   "source": [
    "# Create an array of ones\n",
    "ones = np.ones((2, 4))\n",
    "print(\"Ones:\\n\", ones)"
   ]
  },
  {
   "cell_type": "code",
   "execution_count": 7,
   "id": "be58e9e2",
   "metadata": {},
   "outputs": [
    {
     "name": "stdout",
     "output_type": "stream",
     "text": [
      "Range array: [0 2 4 6 8]\n"
     ]
    }
   ],
   "source": [
    "# Create an array with a specified range\n",
    "# start, stop, step\n",
    "range_array = np.arange(0, 10, 2)  \n",
    "print(\"Range array:\", range_array)"
   ]
  },
  {
   "cell_type": "code",
   "execution_count": 8,
   "id": "b3e83573",
   "metadata": {},
   "outputs": [
    {
     "name": "stdout",
     "output_type": "stream",
     "text": [
      "Linspace array: [0.   0.25 0.5  0.75 1.  ]\n"
     ]
    }
   ],
   "source": [
    "# Create an array of evenly spaced values\n",
    "# start, stop, number of points\n",
    "linspace_array = np.linspace(0, 1, 5)  \n",
    "print(\"Linspace array:\", linspace_array)"
   ]
  },
  {
   "cell_type": "code",
   "execution_count": 9,
   "id": "a634b15a",
   "metadata": {},
   "outputs": [
    {
     "name": "stdout",
     "output_type": "stream",
     "text": [
      "Reshaped array:\n",
      " [[ 0  1  2  3]\n",
      " [ 4  5  6  7]\n",
      " [ 8  9 10 11]]\n"
     ]
    }
   ],
   "source": [
    "# Reshape an array\n",
    "reshaped = np.arange(12).reshape(3, 4)\n",
    "print(\"Reshaped array:\\n\", reshaped)"
   ]
  },
  {
   "cell_type": "markdown",
   "id": "4709b26c",
   "metadata": {},
   "source": [
    "### Basic operations"
   ]
  },
  {
   "cell_type": "code",
   "execution_count": 10,
   "id": "f18b4cd0",
   "metadata": {},
   "outputs": [],
   "source": [
    "a = np.array([1, 2, 3])\n",
    "b = np.array([4, 5, 6])"
   ]
  },
  {
   "cell_type": "code",
   "execution_count": 11,
   "id": "6656d1aa",
   "metadata": {},
   "outputs": [
    {
     "name": "stdout",
     "output_type": "stream",
     "text": [
      "Addition: [5 7 9]\n"
     ]
    }
   ],
   "source": [
    "# Addition\n",
    "add = a + b\n",
    "print(\"Addition:\", add)"
   ]
  },
  {
   "cell_type": "code",
   "execution_count": 12,
   "id": "5c70b28c",
   "metadata": {},
   "outputs": [
    {
     "name": "stdout",
     "output_type": "stream",
     "text": [
      "Subtraction: [-3 -3 -3]\n"
     ]
    }
   ],
   "source": [
    "# Subtraction\n",
    "sub = a - b\n",
    "print(\"Subtraction:\", sub)"
   ]
  },
  {
   "cell_type": "code",
   "execution_count": 13,
   "id": "941ded16",
   "metadata": {},
   "outputs": [
    {
     "name": "stdout",
     "output_type": "stream",
     "text": [
      "Element-wise multiplication: [ 4 10 18]\n"
     ]
    }
   ],
   "source": [
    "# Element-wise multiplication\n",
    "mul = a * b\n",
    "print(\"Element-wise multiplication:\", mul)"
   ]
  },
  {
   "cell_type": "code",
   "execution_count": 14,
   "id": "c2f1f316",
   "metadata": {},
   "outputs": [
    {
     "name": "stdout",
     "output_type": "stream",
     "text": [
      "Element-wise division: [0.25 0.4  0.5 ]\n"
     ]
    }
   ],
   "source": [
    "# Element-wise division\n",
    "div = a / b\n",
    "print(\"Element-wise division:\", div)"
   ]
  },
  {
   "cell_type": "code",
   "execution_count": 15,
   "id": "7be79404",
   "metadata": {},
   "outputs": [
    {
     "name": "stdout",
     "output_type": "stream",
     "text": [
      "Dot product: 32\n"
     ]
    }
   ],
   "source": [
    "# Dot product\n",
    "dot_product = np.dot(a, b)\n",
    "print(\"Dot product:\", dot_product)"
   ]
  },
  {
   "cell_type": "code",
   "execution_count": 16,
   "id": "215f7226",
   "metadata": {},
   "outputs": [
    {
     "name": "stdout",
     "output_type": "stream",
     "text": [
      "Sum of all elements: 6\n"
     ]
    }
   ],
   "source": [
    "# Sum of all elements in an array\n",
    "sum_all = np.sum(a)\n",
    "print(\"Sum of all elements:\", sum_all)"
   ]
  },
  {
   "cell_type": "code",
   "execution_count": 17,
   "id": "32c69b91",
   "metadata": {},
   "outputs": [
    {
     "name": "stdout",
     "output_type": "stream",
     "text": [
      "Sum along axis 0 (columns): [5 7 9]\n"
     ]
    }
   ],
   "source": [
    "# Sum along an axis - sum of each column\n",
    "sum_axis = np.sum(matrix, axis=0)  \n",
    "print(\"Sum along axis 0 (columns):\", sum_axis)"
   ]
  },
  {
   "cell_type": "code",
   "execution_count": 18,
   "id": "915645d9",
   "metadata": {},
   "outputs": [
    {
     "name": "stdout",
     "output_type": "stream",
     "text": [
      "Mean of all elements: 2.0\n"
     ]
    }
   ],
   "source": [
    "# Mean of all elements\n",
    "mean_all = np.mean(a)\n",
    "print(\"Mean of all elements:\", mean_all)"
   ]
  },
  {
   "cell_type": "code",
   "execution_count": 19,
   "id": "6ba1976a",
   "metadata": {},
   "outputs": [
    {
     "name": "stdout",
     "output_type": "stream",
     "text": [
      "Mean along axis 1 (rows): [2. 5.]\n"
     ]
    }
   ],
   "source": [
    "# Mean along an axis - mean of each row\n",
    "mean_axis = np.mean(matrix, axis=1)  \n",
    "print(\"Mean along axis 1 (rows):\", mean_axis)"
   ]
  },
  {
   "cell_type": "code",
   "execution_count": 20,
   "id": "98cdb510",
   "metadata": {},
   "outputs": [
    {
     "name": "stdout",
     "output_type": "stream",
     "text": [
      "Standard deviation: 0.816496580927726\n"
     ]
    }
   ],
   "source": [
    "# Standard deviation\n",
    "std_dev = np.std(a)\n",
    "print(\"Standard deviation:\", std_dev)"
   ]
  },
  {
   "cell_type": "code",
   "execution_count": 21,
   "id": "ad6bcf1e",
   "metadata": {},
   "outputs": [
    {
     "name": "stdout",
     "output_type": "stream",
     "text": [
      "Transpose of matrix:\n",
      " [[1 4]\n",
      " [2 5]\n",
      " [3 6]]\n"
     ]
    }
   ],
   "source": [
    "# Transpose of a matrix\n",
    "transpose_matrix = matrix.T\n",
    "print(\"Transpose of matrix:\\n\", transpose_matrix)"
   ]
  },
  {
   "cell_type": "code",
   "execution_count": 22,
   "id": "b9825918",
   "metadata": {},
   "outputs": [
    {
     "name": "stdout",
     "output_type": "stream",
     "text": [
      "Sliced array: [2 3 4]\n"
     ]
    }
   ],
   "source": [
    "# Indexing and slicing\n",
    "sliced_array = arr[1:4]  # slice from index 1 to 3\n",
    "print(\"Sliced array:\", sliced_array)"
   ]
  },
  {
   "cell_type": "code",
   "execution_count": 23,
   "id": "dc757866",
   "metadata": {},
   "outputs": [
    {
     "name": "stdout",
     "output_type": "stream",
     "text": [
      "Boolean indexing (arr > 3): [False False False  True  True]\n",
      "Filtered array: [4 5]\n"
     ]
    }
   ],
   "source": [
    "# Boolean indexing\n",
    "bool_index = arr > 3\n",
    "print(\"Boolean indexing (arr > 3):\", bool_index)\n",
    "filtered_array = arr[bool_index]\n",
    "print(\"Filtered array:\", filtered_array)"
   ]
  },
  {
   "cell_type": "code",
   "execution_count": 24,
   "id": "a17d7db0",
   "metadata": {},
   "outputs": [
    {
     "name": "stdout",
     "output_type": "stream",
     "text": [
      "Concatenated array: [1 2 3 4 5 6]\n"
     ]
    }
   ],
   "source": [
    "# Concatenate arrays\n",
    "concat = np.concatenate((a, b))\n",
    "print(\"Concatenated array:\", concat)"
   ]
  },
  {
   "cell_type": "markdown",
   "id": "18a080b9",
   "metadata": {},
   "source": [
    "### Other operations"
   ]
  },
  {
   "cell_type": "code",
   "execution_count": 25,
   "id": "9f610374",
   "metadata": {},
   "outputs": [
    {
     "name": "stdout",
     "output_type": "stream",
     "text": [
      "Vertically stacked array:\n",
      " [[1 2 3]\n",
      " [4 5 6]]\n"
     ]
    }
   ],
   "source": [
    "# Stack arrays vertically\n",
    "vstack = np.vstack((a, b))\n",
    "print(\"Vertically stacked array:\\n\", vstack)"
   ]
  },
  {
   "cell_type": "code",
   "execution_count": 26,
   "id": "4a2a5f32",
   "metadata": {},
   "outputs": [
    {
     "name": "stdout",
     "output_type": "stream",
     "text": [
      "Horizontally stacked array: [1 2 3 4 5 6]\n"
     ]
    }
   ],
   "source": [
    "# Stack arrays horizontally\n",
    "hstack = np.hstack((a, b))\n",
    "print(\"Horizontally stacked array:\", hstack)"
   ]
  },
  {
   "cell_type": "code",
   "execution_count": 27,
   "id": "b9e0dd6e",
   "metadata": {},
   "outputs": [
    {
     "name": "stdout",
     "output_type": "stream",
     "text": [
      "Identity matrix:\n",
      " [[1. 0. 0.]\n",
      " [0. 1. 0.]\n",
      " [0. 0. 1.]]\n"
     ]
    }
   ],
   "source": [
    "# Create identity matrix\n",
    "identity_matrix = np.eye(3)\n",
    "print(\"Identity matrix:\\n\", identity_matrix)"
   ]
  },
  {
   "cell_type": "code",
   "execution_count": 28,
   "id": "415c567b",
   "metadata": {},
   "outputs": [
    {
     "name": "stdout",
     "output_type": "stream",
     "text": [
      "Random array:\n",
      " [[0.7748697  0.86268322 0.36202425]\n",
      " [0.7934703  0.07357308 0.4362347 ]\n",
      " [0.14548784 0.31747074 0.2617362 ]]\n"
     ]
    }
   ],
   "source": [
    "# Random numbers\n",
    "random_array = np.random.random((3, 3))  # random values in a given shape\n",
    "print(\"Random array:\\n\", random_array)"
   ]
  },
  {
   "cell_type": "code",
   "execution_count": 29,
   "id": "fe299b98",
   "metadata": {},
   "outputs": [
    {
     "name": "stdout",
     "output_type": "stream",
     "text": [
      "Random array with seed:\n",
      " [[0.37454012 0.95071431]\n",
      " [0.73199394 0.59865848]]\n"
     ]
    }
   ],
   "source": [
    "# Seed for reproducibility\n",
    "np.random.seed(42)\n",
    "random_seeded = np.random.random((2, 2))\n",
    "print(\"Random array with seed:\\n\", random_seeded)"
   ]
  },
  {
   "cell_type": "code",
   "execution_count": null,
   "id": "0220b260",
   "metadata": {},
   "outputs": [],
   "source": []
  }
 ],
 "metadata": {
  "kernelspec": {
   "display_name": "Python 3 (ipykernel)",
   "language": "python",
   "name": "python3"
  },
  "language_info": {
   "codemirror_mode": {
    "name": "ipython",
    "version": 3
   },
   "file_extension": ".py",
   "mimetype": "text/x-python",
   "name": "python",
   "nbconvert_exporter": "python",
   "pygments_lexer": "ipython3",
   "version": "3.9.7"
  }
 },
 "nbformat": 4,
 "nbformat_minor": 5
}
